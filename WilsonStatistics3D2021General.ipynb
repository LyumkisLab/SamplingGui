{
  "nbformat": 4,
  "nbformat_minor": 0,
  "metadata": {
    "anaconda-cloud": {},
    "kernelspec": {
      "display_name": "Python 3",
      "language": "python",
      "name": "python3"
    },
    "language_info": {
      "codemirror_mode": {
        "name": "ipython",
        "version": 3
      },
      "file_extension": ".py",
      "mimetype": "text/x-python",
      "name": "python",
      "nbconvert_exporter": "python",
      "pygments_lexer": "ipython3",
      "version": "3.6.1"
    },
    "colab": {
      "name": "WilsonStatistics3D2021General.ipynb",
      "provenance": [],
      "collapsed_sections": [],
      "machine_shape": "hm",
      "include_colab_link": true
    }
  },
  "cells": [
    {
      "cell_type": "markdown",
      "metadata": {
        "id": "view-in-github",
        "colab_type": "text"
      },
      "source": [
        "<a href=\"https://colab.research.google.com/github/LyumkisLab/SamplingGui/blob/master/WilsonStatistics3D2021General.ipynb\" target=\"_parent\"><img src=\"https://colab.research.google.com/assets/colab-badge.svg\" alt=\"Open In Colab\"/></a>"
      ]
    },
    {
      "cell_type": "markdown",
      "metadata": {
        "id": "OMvZXy2Vl36O"
      },
      "source": [
        "\n",
        "\n",
        "# Created on Tuesday August  23rd 03:10:00 2021\n",
        "\n",
        "# author Philip Baldwin, work supported by Salk Institute\n",
        "\n",
        "\n",
        "\n",
        "#  Check Wilson Statistics 3D\n",
        "\n",
        "\n",
        "#  Section 0A Imports\n"
      ]
    },
    {
      "cell_type": "code",
      "metadata": {
        "id": "9S19e7a2jD-l",
        "cellView": "form"
      },
      "source": [
        "#@title 0A Imports\n",
        "import scipy.cluster\n",
        "import os\n",
        "import numpy as np\n",
        "#from numba import jit, vectorize, guvectorize, float64, complex64, int32, float32, autojit\n",
        "from matplotlib import pyplot as plt\n",
        "from matplotlib import colors\n",
        "#import mrcfile\n",
        "import scipy\n",
        "\n",
        "from sklearn.decomposition import FastICA, PCA, NMF\n",
        "from mpl_toolkits.mplot3d import Axes3D\n",
        "\n"
      ],
      "execution_count": null,
      "outputs": []
    },
    {
      "cell_type": "code",
      "metadata": {
        "cellView": "form",
        "id": "bjo_YuZu2W5T"
      },
      "source": [
        "#@title 0A do more Imports\n",
        "from google.colab import drive\n",
        "#drive.mount('/content/drive')\n",
        "\n",
        "import sys\n",
        "#sys.path.insert(0,'/content/drive/My Drive/ColabNotebooks')"
      ],
      "execution_count": null,
      "outputs": []
    },
    {
      "cell_type": "markdown",
      "metadata": {
        "id": "lMIYyuhylImd"
      },
      "source": [
        "#  Section 0B Define Preliminary Functions"
      ]
    },
    {
      "cell_type": "code",
      "metadata": {
        "id": "SozwqIc0lLkD",
        "cellView": "form"
      },
      "source": [
        "#@title 0B TakeFFT TakeFFT0 and more subroutines\n",
        "def TakeFFT(f):\n",
        "    TwoNplus1= len(f)\n",
        "    N = (TwoNplus1-1)/2\n",
        "    K = np.arange(-N,N+1)\n",
        "    X = np.arange(-N,N+1)\n",
        "    KIndex= K+N;\n",
        "    XIndex = X +N;\n",
        "    KX = np.outer(K,X)\n",
        "    KernelR = np.cos(2*np.pi*KX/TwoNplus1)\n",
        "    KernelI = np.sin(2*np.pi*KX/TwoNplus1)\n",
        "    FR = np.dot(KernelR,f)\n",
        "    FI = np.dot(KernelI,f)\n",
        "    return FR,FI\n",
        "\n",
        "def TakeFFT0(f):\n",
        "    TwoNplus1= len(f)\n",
        "    N = (TwoNplus1-1)/2\n",
        "    #K = np.arange(-N,N+1)\n",
        "    X = np.arange(-N,N+1)\n",
        "    FComp = scipy.fft.fftshift(scipy.fft.fft(f))\n",
        "    FPhased =np.conj(FComp)*np.exp(-2*np.pi*X*N*1j/TwoNplus1)\n",
        "    #KIndex= K+N;\n",
        "    #XIndex = X +N;\n",
        "    return FPhased\n",
        "\n",
        "\n",
        "def TakeIFFT(FR,FI):\n",
        "    TwoNplus1= len(FR)\n",
        "    N = (TwoNplus1-1)/2\n",
        "    K = np.arange(-N,N+1)\n",
        "    X = np.arange(-N,N+1)\n",
        "    KIndex= K+N;\n",
        "    XIndex = X +N;\n",
        "    XK = np.outer(X,K)\n",
        "    KernelR = np.cos(2*np.pi*XK/TwoNplus1)/TwoNplus1\n",
        "    KernelI = np.sin(2*np.pi*XK/TwoNplus1)/TwoNplus1\n",
        "    fR = np.dot(KernelR,FR) + np.dot(KernelI,FI)\n",
        "    fI = np.dot(KernelI,FR) + np.dot(KernelR,FI)\n",
        "    return fR,fI\n",
        "\n",
        "def TakeIFFT0(FPhased):\n",
        "    TwoNplus1= len(FPhased)\n",
        "    N = (TwoNplus1-1)/2\n",
        "    #K = np.arange(-N,N+1)\n",
        "    X = np.arange(-N,N+1)\n",
        "    FUnphased = np.conj(FPhased)*np.exp(-2*np.pi*X*N*1j/TwoNplus1)\n",
        "    #This should be the same as FComp\n",
        "    fGuessed =np.real(scipy.fft.ifft(scipy.fft.ifftshift(FUnphased)))\n",
        "    return fGuessed\n",
        "\n",
        "def Take2DFFT(f2D):\n",
        "    TwoNplus1= np.shape(f2D)[0]\n",
        "    N = (TwoNplus1-1)/2\n",
        "    K = np.arange(-N,N+1)\n",
        "    X = np.arange(-N,N+1)\n",
        "    KIndex= K+N;\n",
        "    XIndex = X +N;\n",
        "    XK = np.outer(X,K)\n",
        "    KernelR = np.cos(2*np.pi*XK/TwoNplus1)/TwoNplus1\n",
        "    KernelI = np.sin(2*np.pi*XK/TwoNplus1)/TwoNplus1\n",
        "    fR = np.dot(KernelR,FR) + np.dot(KernelI,FI)\n",
        "    fI = np.dot(KernelI,FR) + np.dot(KernelR,FI)\n",
        "    return fR,fI\n",
        "\n",
        "\n",
        "def Take2DFFT0(fFilteredBoxed):\n",
        "    TwoNplus1= np.shape(fFilteredBoxed)[0]\n",
        "    N = (TwoNplus1-1)/2\n",
        "    K = np.arange(-N,N+1)\n",
        "    X = np.arange(-N,N+1)\n",
        "    Phase0 = np.exp(-2*np.pi*X*N*1j/TwoNplus1)\n",
        "    PhaseFactor = np.outer(Phase0,Phase0) \n",
        "\n",
        "    FComp = scipy.fft.fftshift(scipy.fft.fft2(fFilteredBoxed))\n",
        "    F =np.conj(FComp)*PhaseFactor; # the FT of input f\n",
        "    #print(np.shape(FComp),np.shape(PhaseFactor))\n",
        "    return  F ; # The Fourier Transform of fFilteredBoxed\n",
        "\n",
        "def Take2DIFFT0(F):\n",
        "    TwoNplus1= np.shape(F)[0]\n",
        "    N = (TwoNplus1-1)/2\n",
        "    K = np.arange(-N,N+1)\n",
        "    X = np.arange(-N,N+1)\n",
        "    Phase0 = np.exp(-2*np.pi*X*N*1j/TwoNplus1)\n",
        "    PhaseFactor = np.outer(Phase0,Phase0) \n",
        "\n",
        "    FUnphased = np.conj(F)*PhaseFactor\n",
        "    fGuessed =np.real(scipy.fft.ifft2(scipy.fft.ifftshift(FUnphased)))\n",
        "\n",
        "    return  fGuessed ; # The Fourier Transform of fFilteredBoxed\n",
        "\n",
        "\n",
        "def Take3DFFT0(fFilteredBoxed):\n",
        "    TwoNplus1= np.shape(fFilteredBoxed)[0]\n",
        "    N = (TwoNplus1-1)/2\n",
        "    K = np.arange(-N,N+1)\n",
        "    X = np.arange(-N,N+1)\n",
        "    Phase0 = np.exp(-2*np.pi*X*N*1j/TwoNplus1)\n",
        "    PhaseFactor = np.outer(Phase0,Phase0) \n",
        "    #print(np.shape(Phase0),np.shape(PhaseFactor))\n",
        "    PhaseFactor1 = np.outer(PhaseFactor,Phase0) \n",
        "    \n",
        "    #print(np.shape(Phase0),np.shape(PhaseFactor1))\n",
        "\n",
        "    PhaseFactor = np.reshape( PhaseFactor1,[TwoNplus1,TwoNplus1,TwoNplus1])\n",
        "\n",
        "    #PhaseFactor = 1;\n",
        "\n",
        "    FComp = scipy.fft.fftshift(scipy.fft.fftn(fFilteredBoxed))\n",
        "    F =np.conj(FComp)*PhaseFactor; # the FT of input f\n",
        "    #print(np.shape(FComp),np.shape(PhaseFactor))\n",
        "\n",
        "    return  F ; # The Fourier Transform of fFilteredBoxed\n",
        "\n",
        "def Take3DIFFT0(F):\n",
        "    TwoNplus1= np.shape(F)[0]\n",
        "    N = (TwoNplus1-1)/2\n",
        "    K = np.arange(-N,N+1)\n",
        "    X = np.arange(-N,N+1)\n",
        "    Phase0 = np.exp(-2*np.pi*X*N*1j/TwoNplus1)\n",
        "    PhaseFactor = np.outer(Phase0,Phase0) \n",
        "    PhaseFactor1 = np.outer(PhaseFactor,Phase0) \n",
        "    PhaseFactor = np.reshape( PhaseFactor1,[TwoNplus1,TwoNplus1,TwoNplus1])\n",
        "\n",
        "    FUnphased = np.conj(F)*PhaseFactor\n",
        "    fGuessed =np.real(scipy.fft.ifftn(scipy.fft.ifftshift(FUnphased)))\n",
        "\n",
        "    return  fGuessed ; # The Fourier Transform of fFilteredBoxed\n"
      ],
      "execution_count": null,
      "outputs": []
    },
    {
      "cell_type": "markdown",
      "metadata": {
        "id": "y0erZ3ugHMTr"
      },
      "source": [
        "**The** next section checks the routines, otherwise skip"
      ]
    },
    {
      "cell_type": "code",
      "metadata": {
        "id": "hsYJbFbB_VN-",
        "cellView": "form"
      },
      "source": [
        "#@title Check Subroutines; Hidden\n",
        "#### Hide cell\n",
        "if 0:\n",
        "  f=np.arange(9).reshape([3,3])\n",
        "\n",
        "  F = Take2DFFT0(f)\n",
        "\n",
        "  print(np.shape(F))\n",
        "\n",
        "\n",
        "  f=np.arange(27).reshape([3,3,3])\n",
        "\n",
        "  f=np.random.rand(101,101,101)\n",
        "\n",
        "  F = Take3DFFT0(f)\n",
        "\n",
        "  Fabs = np.abs(F)\n",
        "\n",
        "  fGuessed = Take3DIFFT0(F)\n",
        "  plt.figure(figsize=(12,12))\n",
        "  plt.subplot(1,2,1)\n",
        "  plt.imshow(f[100,:,:],cmap='gray')\n",
        "  plt.title(' Original Noisy function of size 101 on edge')\n",
        "\n",
        "  plt.subplot(1,2,2)\n",
        "  plt.imshow(fGuessed[100,:,:],cmap='gray')\n",
        "  plt.title(' IFT(FFT of original))')\n",
        "\n",
        "  print(f[100,100,100],fGuessed[100,100,100])\n",
        "  #print(F)\n",
        "  #plt.title('A slice of the abs of FT of 17x17x17 random matrix')\n",
        "  #plt.imshow(np.abs(F[2,:,:]),cmap='gray')\n",
        "\n",
        "if 0:\n",
        "  print(\"FT\")\n",
        "  f=np.array([1,2,3,4,5])\n",
        "  FR,FI=  TakeFFT(f)\n",
        "  print(FR,FI)\n",
        "\n",
        "  print(\"FT the fast way\")\n",
        "  FAll = TakeFFT0(f)\n",
        "  print(FAll)\n",
        "\n",
        "  print(\"Inverse FT \")\n",
        "  fAfter = TakeIFFT(FR,FI)\n",
        "  print(fAfter)\n",
        "\n",
        "  print(\"Inverse FT the fast way\")\n",
        "  fAfter = TakeIFFT0(FAll)\n",
        "  print(fAfter)\n",
        "\n",
        "  print(\" Beginning 2D f \")\n",
        "  f=array = np.arange(9).reshape(3,3)\n",
        "  print(f)\n",
        "\n",
        "  print(\"2D FT \")\n",
        "  F = Take2DFFT0(f)\n",
        "  print(F)\n",
        "\n",
        "  print(\"inverse of 2D FT \")\n",
        "  fGuessed = Take2DIFFT0(F)\n",
        "  print(fGuessed)\n",
        "\n",
        "  plt.imshow(np.abs(F[0,:,:]))\n",
        "\n",
        "  if 0:\n",
        "    FComp = scipy.fft.fftshift(scipy.fft.fft(f))\n",
        "    FPhased =np.conj(FComp)*np.exp(-2*np.pi*X*N*1j/TwoNplus1)\n",
        "  #FR[N+1]\n",
        "  #Out[22]: 0.5021741235382479\n",
        "\n",
        "  #print(FPhased[N-1])\n",
        "  #print(FR[N-1],FI[N-1])\n",
        "  #ArgsDesired= (np.arctan2(FI,FR))\n",
        "  #ArgsDirect = (np.angle(FComp))\n",
        "\n"
      ],
      "execution_count": null,
      "outputs": []
    },
    {
      "cell_type": "code",
      "metadata": {
        "id": "MqUHsERTrYBM",
        "cellView": "form"
      },
      "source": [
        "#@title New Programs    GetValuesAtRad(ImageWithOriginInCenter, Radius),  <br> GetIFibDirections_Kernel(deltaTheta),   <br> CoarseGrainDataOnSphere(nVecFR7,ValVec,nVecT)\n",
        "\n",
        "\n",
        "def GetValuesAtRad3D(ImageWithOriginInCenter, Radius):\n",
        "  ShapeNow = np.shape(ImageWithOriginInCenter)\n",
        "  IndValueAtCenter= ShapeNow[0]//2;\n",
        "  IndMax = IndValueAtCenter\n",
        "  Dimension= len(ShapeNow)\n",
        "  #CircAvNow  = np.zeros(IndMax)\n",
        "  #CircSumNow = np.zeros(IndMax)\n",
        "  #WeightsNow = np.zeros(IndMax)\n",
        "\n",
        "  ValNowVec=[]\n",
        "  ThetaVec =[]\n",
        "  PhiVec =[]\n",
        "  Count=0\n",
        "  RadiusSq = Radius*Radius\n",
        "  jMax = np.min([Radius,IndMax])\n",
        "  for jx in range(-jMax,jMax+1):\n",
        "    DistNowSqX = jx*jx\n",
        "    DistNow = np.sqrt(DistNowSqX)\n",
        "    #if np.abs(DistNow-Radius)>1:continue\n",
        "    for jy in range(-jMax,jMax+1):\n",
        "      DistNowSqY = DistNowSqX + jy*jy\n",
        "      DistNow = np.sqrt(DistNowSqY)\n",
        "      #if np.abs( DistNow -Radius)>1:continue\n",
        "      for jz in range(-jMax,jMax+1):\n",
        "        #print(jx,jy,jz)\n",
        "        DistNowSq = DistNowSqY +jz*jz\n",
        "        DistNow = np.sqrt(DistNowSq)\n",
        "        #print(jx,jy,jz,DistNow,Radius)\n",
        "        if np.abs(DistNow-Radius)>=0.51:continue\n",
        "        PhiNow = np.arctan2(jy,jx)\n",
        "        ThetaNow = np.arccos(jz/DistNow)\n",
        "        jxActual = jx+IndMax\n",
        "        jyActual = jy+IndMax\n",
        "        jzActual = jz+IndMax\n",
        "        ValNow =  ImageWithOriginInCenter[jxActual,jyActual,jzActual]\n",
        "        DistLo= np.int(DistNow)\n",
        "        DistHi= DistLo+1;\n",
        "        if (DistLo==Radius) or (DistHi==Radius):\n",
        "          WeightLo =  DistHi-DistNow\n",
        "          WeightHi =  DistNow - DistLo\n",
        "          #if DistLo >= IndMax: continue\n",
        "          #CircSumNow[DistLo] += WeightLo*ValNow\n",
        "          #WeightsNow[DistLo] += WeightLo\n",
        "          #if DistHi >= IndMax: continue\n",
        "          #CircSumNow[DistHi] += WeightHi*ValNow\n",
        "          #WeightsNow[DistHi] += WeightHi\n",
        "          ValNowVec.append(ValNow)\n",
        "          ThetaVec.append(ThetaNow)\n",
        "          PhiVec.append(PhiNow)\n",
        "\n",
        "\n",
        "  #CircAvNow = CircSumNow/WeightsNow\n",
        "  PhiVec= np.array(PhiVec)*180/np.pi\n",
        "  ThetaVec= np.array(ThetaVec)*180/np.pi\n",
        "  ValNowVec= np.array(ValNowVec)\n",
        "\n",
        "  return ThetaVec, PhiVec, ValNowVec\n",
        "\n",
        "def CircAverage(ImageWithOriginInCenter): # defunct\n",
        "  ShapeNow = np.shape(ImageWithOriginInCenter)\n",
        "  IndValueAtCenter= ShapeNow[0]//2;\n",
        "  IndMax = IndValueAtCenter\n",
        "  Dimension= len(ShapeNow)\n",
        "  CircAvNow  = np.zeros(IndMax)\n",
        "  CircSumNow = np.zeros(IndMax)\n",
        "  WeightsNow = np.zeros(IndMax)\n",
        "\n",
        "  for jx in range(-IndMax,IndMax+1):\n",
        "    for jy in range(-IndMax,IndMax+1):\n",
        "      for jz in range(-IndMax,IndMax+1):\n",
        "        jxActual = jx+IndMax\n",
        "        jyActual = jy+IndMax\n",
        "        jzActual = jz+IndMax\n",
        "\n",
        "        ValNow =  ImageWithOriginInCenter[jxActual,jyActual,jzActual]\n",
        "        DistNow = np.sqrt(jx*jx+jy*jy+jz*jz)\n",
        "        DistLo= np.int(DistNow)\n",
        "        DistHi= DistLo+1;\n",
        "        WeightLo =  DistHi-DistNow\n",
        "        WeightHi =  DistNow - DistLo\n",
        "        if DistLo >= IndMax: continue\n",
        "        CircSumNow[DistLo] += WeightLo*ValNow\n",
        "        WeightsNow[DistLo] += WeightLo\n",
        "        if DistHi >= IndMax: continue\n",
        "        CircSumNow[DistHi] += WeightHi*ValNow\n",
        "        WeightsNow[DistHi] += WeightHi\n",
        "\n",
        "  CircAvNow = CircSumNow/WeightsNow\n",
        "\n",
        "  return CircAvNow,WeightsNow\n",
        "\n",
        "\n",
        "def GetIFibDirections_Kernel(deltaTheta):\n",
        "    #deltaTheta = float(argv[1]); \n",
        "    deltaThetaRad=np.pi*deltaTheta/180.0;\n",
        "    #Directions_csv_out = argv[2];\n",
        "    \n",
        "    # Now, deltaTheta takes up a cone which has area\n",
        "    #    2 pi * (1-cos(deltaTheta))\n",
        "    # The surface area of the Sphere is 4 pi\n",
        "    # We need Hemisphere (as opposed to sphere) because the \n",
        "    #   unit vectors take up both directions\n",
        "    #  So the fraction for each plaquette is (1- cos(theta))\n",
        "    # N should be about 1 over this fraction.\n",
        "    # But we will create twice so many.\n",
        "    \n",
        "    \n",
        "    #  Section 1. Calculate location of points\n",
        "    #\n",
        "    FractionOfHemi = 1- np.cos(deltaThetaRad);\n",
        "    NumPoints = int(round(2.0/FractionOfHemi));\n",
        "    # \n",
        "    NumPoints = (NumPoints//2)*2+1\n",
        "    NPos= (NumPoints-1)//2\n",
        "    \n",
        "    phi=(1.0+ np.sqrt(5.0))/2.0-1\n",
        "    ga = phi*2.0*np.pi;#  The Golden Angle\n",
        "    \n",
        "    \n",
        "    nVec=np.zeros([NumPoints,3]);\n",
        "    jLongitude=np.arange(-NPos,NPos+1);\n",
        "    \n",
        "    longitude = ga*jLongitude;\n",
        "    latitude  =  np.arcsin(1.0*jLongitude/NPos);# for hemisphere\n",
        "    nhatz = np.sin(latitude);\n",
        "    nhatx = np.cos(latitude)*np.cos(longitude);\n",
        "    nhaty = np.cos(latitude)*np.sin(longitude);\n",
        "\n",
        "    nVec = np.concatenate([nhatx,nhaty,nhatz])\n",
        "    nVec = np.reshape(nVec,[3,NumPoints])\n",
        "\n",
        "#    \n",
        "#    \n",
        "#    for jLongitude  in range(NumPoints):\n",
        "#    \tlongitude = ga*jLongitude;\n",
        "#    \t#latitude  = asin(-1.0+2.0*jLongitude/NumPoints); for sphere\n",
        "#    \tlatitude  = np.arcsin(1.0*jLongitude/NumPoints);# for hemisphere\n",
        "#    \tnhatz = np.sin(latitude);\n",
        "#    \tnhatx = np.cos(latitude)*cos(longitude);\n",
        "#    \tnhaty = np.cos(latitude)*sin(longitude);\n",
        "#    \tnNow = np.array([nhatx,nhaty,nhatz]);\n",
        "#    \tnVec.append(nNow);\n",
        "#    \n",
        "    \n",
        "\n",
        "    return nVec.T\n",
        "    \n",
        "    \n",
        "\n",
        "\n",
        "def CoarseGrainDataOnSphere(nVecFR7,ValVec,nVecT):\n",
        "  #find Fibonacci spiral consistent with ThetaCone\n",
        "  NumVals = np.shape(nVecFR7)[0]\n",
        "  NumGrid = np.shape(ValVec)[0]\n",
        "\n",
        "  ValsSum = np.zeros(NumGrid)\n",
        "  Weights = np.zeros(NumGrid)\n",
        "\n",
        "  for Count,ValNow in enumerate(ValVec):\n",
        "     nVecFR7Now  = ValNowVec[Count]\n",
        "     ThetaNow= ThetaInVec[Count]\n",
        "     PhiNow= PhiInVec[Count]\n",
        "     nVecFineNow\n",
        "     ThetaUpper = np.int(ThetaNow+ThetaCone)\n",
        "     ThetaLower = np.int(ThetaNow-ThetaCone)\n",
        "     #print(ThetaLower,ThetaUpper)\n",
        "     if (ThetaLower >=0) & (ThetaUpper<360):\n",
        "        ValsSum[ThetaLower:ThetaUpper] += ValNow\n",
        "        Weights[ThetaLower:ThetaUpper] += 1\n",
        "     if (ThetaLower <0) and (ThetaUpper<360):\n",
        "        ValsSum[:ThetaUpper] += ValNow\n",
        "        Weights[:ThetaUpper] += 1\n",
        "        ValsSum[ThetaLower:] += ValNow\n",
        "        Weights[ThetaLower:] += 1\n",
        "     if (ThetaLower >0) and (ThetaUpper>=360):\n",
        "        ValsSum[ThetaLower:] += ValNow\n",
        "        Weights[ThetaLower:] += 1\n",
        "        ValsSum[:(ThetaUpper-360)] += ValNow\n",
        "        Weights[:(ThetaUpper-360)] += 1\n",
        "\n",
        "  return ValsSum/Weights,Weights\n",
        "\n"
      ],
      "execution_count": null,
      "outputs": []
    },
    {
      "cell_type": "code",
      "metadata": {
        "id": "Mnxrv4XpB4we",
        "cellView": "form"
      },
      "source": [
        "#@title Legacy code (skip)) Fib Directions\n",
        "if 0:\n",
        "    deltaTheta=20\n",
        "    deltaThetaRad=np.pi*deltaTheta/180.0;\n",
        "    #Directions_csv_out = argv[2];\n",
        "    \n",
        "    # Now, deltaTheta takes up a cone which has area\n",
        "    #    2 pi * (1-cos(deltaTheta))\n",
        "    # The surface area of the Sphere is 4 pi\n",
        "    # We need Hemisphere (as opposed to sphere) because the \n",
        "    #   unit vectors take up both directions\n",
        "    #  So the fraction for each plaquette is (1- cos(theta))\n",
        "    # N should be about 1 over this fraction.\n",
        "    # But we will create twice so many.\n",
        "    \n",
        "    \n",
        "    #  Section 1. Calculate location of points\n",
        "    #\n",
        "    FractionOfHemi = 1- np.cos(deltaThetaRad);\n",
        "    NumPoints = int(round(2.0/FractionOfHemi));\n",
        "    # \n",
        "    NumPoints = (NumPoints//2)*2+1\n",
        "    NPos= (NumPoints-1)//2\n",
        "    \n",
        "    phi=(1.0+ np.sqrt(5.0))/2.0-1\n",
        "    ga = phi*2.0*np.pi;#  The Golden Angle\n",
        "    \n",
        "    \n",
        "    nVec=np.zeros([NumPoints,3]);\n",
        "    jLongitude=np.arange(-NPos,NPos+1);\n",
        "    \n",
        "    longitude = ga*jLongitude;\n",
        "    latitude  =  np.arcsin(1.0*jLongitude/NPos);# for hemisphere\n",
        "    nhatz = np.sin(latitude);\n",
        "    nhatx = np.cos(latitude)*np.cos(longitude);\n",
        "    nhaty = np.cos(latitude)*np.sin(longitude);\n",
        "\n",
        "    nVec = np.concatenate([nhatx,nhaty,nhatz])\n",
        "    nVec = np.reshape(nVec,[3,NumPoints])\n",
        "\n",
        "    print(np.shape(nVec),NumPoints)\n",
        "    print(np.shape(nhatx),np.shape(jLongitude))\n"
      ],
      "execution_count": null,
      "outputs": []
    },
    {
      "cell_type": "code",
      "metadata": {
        "id": "IZmwlBs5xNhx",
        "cellView": "form"
      },
      "source": [
        "#@title Execute this\n",
        "# Get Fibonnaci directions store for 20 degrees in nVecT, snVecT\n",
        "\n",
        "deltaTheta= 20; \n",
        "nVecT = GetIFibDirections_Kernel(deltaTheta)\n",
        "snVecT = len(nVecT)\n",
        "# This number should be smaller than 4 pi k^2. \n",
        "# Later we use k=7;\n",
        "# 4 k^2 aoub 200, so this should be about 600, actual is 33 (for deltaTheta =20). \n",
        "# We want to put this data to the 33 points given by nVecT.\n",
        "\n",
        "if 0:\n",
        "  print(np.shape(nVecT))\n",
        "\n",
        "  plt.figure(figsize=(8,4))\n",
        "  plt.subplot(1,2,1)\n",
        "  plt.title('Fib ' + str(snVecT)+ ' Sampling Points on Sphere')\n",
        "  plt.scatter(nVecT[:,0],nVecT[:,1])\n",
        "  plt.subplot(1,2,2)\n",
        "  plt.hist(nVecT[:,0])\n",
        "  plt.title('hist of x vals; delta Theta=10')\n"
      ],
      "execution_count": null,
      "outputs": []
    },
    {
      "cell_type": "code",
      "metadata": {
        "id": "5jh4CVSS9VnC",
        "cellView": "form"
      },
      "source": [
        "#@title Some Testing; Can skip\n",
        "if 0:\n",
        "  #fGuessed = Take3DIFFT0(F)\n",
        "  #print(fGuessed) \n",
        "  FourierRadius =50\n",
        "\n",
        "  ThetaVec, PhiVec, ValVec= GetValuesAtRad3D(F,FourierRadius)\n",
        "\n",
        "  nVec7X = np.sin(ThetaVec*np.pi/180.0)*np.cos(PhiVec*np.pi/180.0)\n",
        "  nVec7Y = np.sin(ThetaVec*np.pi/180.0)*np.sin(PhiVec*np.pi/180.0)\n",
        "  nVec7Z = np.cos(ThetaVec*np.pi/180.0)\n",
        "  nVec7 = np.vstack([nVec7X,nVec7Y,nVec7Z]).T\n",
        "  #nVecZ = np.cos(ThetaVec)\n",
        "  At1 = ValVec\n",
        "  print(len(At1))\n",
        "  #print(At1)\n",
        "  #print(Fabs)\n",
        "\n",
        "  # nVecFR7,ValVec,nVecT\n",
        "\n",
        "  nVecFRFinebynVecCoarse = np.dot(nVec7,nVecT.T)\n",
        "  #plt.figure(figsize=(5,40))\n",
        "  #plt.imshow(nVecFRFinebynVecCoarse,cmap='gray')\n",
        "  print(np.shape(nVecFRFinebynVecCoarse)); # 602 by 33\n",
        "  # For each row, find\n"
      ],
      "execution_count": null,
      "outputs": []
    },
    {
      "cell_type": "code",
      "metadata": {
        "id": "i1hznzwlkQ9H",
        "cellView": "form"
      },
      "source": [
        "#@title (skipped) Conically Ave  Power for some Random Points\n",
        "\n",
        "if 0:\n",
        "  #AA= np.max(nVecFRFinebynVecCoarse,axis=1);\n",
        "  #print(len(AA))\n",
        "\n",
        "  IndsMax = np.argmax(nVecFRFinebynVecCoarse, axis=1)\n",
        "\n",
        "  #print(len(AA),AA[0],nVecFRFinebynVecCoarse[0,IndsMax[0]])\n",
        "\n",
        "  NumIn  = np.shape(nVecFRFinebynVecCoarse)[0]\n",
        "  NumOut = np.shape(nVecFRFinebynVecCoarse)[1]\n",
        "  ValSumOut = np.zeros(NumOut,dtype=complex);\n",
        "  Val2SumOut = np.zeros(NumOut);\n",
        "  WeightOut = np.zeros(NumOut);\n",
        "  # = len(np.where(IndsMax==jNow)[0])\n",
        "  for jNow in range(NumIn):\n",
        "    IndNow = IndsMax[jNow]\n",
        "    ValNow = ValVec[jNow]\n",
        "    Val2Now = np.abs(ValNow)*np.abs(ValNow)\n",
        "    WeightOut[IndNow] +=1\n",
        "    ValSumOut[IndNow] += ValNow\n",
        "    Val2SumOut[IndNow] += Val2Now\n",
        "\n",
        "  if 0: plt.plot(WeightOut,'.')\n",
        "\n",
        "  ValsConicallyAveraged =   ValSumOut/WeightOut\n",
        "  Vals2ConicallyAveraged =   Val2SumOut/WeightOut\n",
        "\n",
        "  plt.figure(figsize=(14,4))\n",
        "  plt.subplot(1,3,1)\n",
        "  plt.hist(Vals2ConicallyAveraged/10000)\n",
        "  plt.xlim(0,10)\n",
        "  plt.title('Conically Ave Power for Random Points; FR=50')\n",
        "  plt.subplot(1,3,2)\n",
        "  plt.hist(WeightOut)\n",
        "  plt.title('hist Weights for 33 points; dTheta=20')\n",
        "  plt.xlim(0,1200)\n",
        "  plt.subplot(1,3,3)\n",
        "  plt.title('Weights for 33 points; dTheta=20')\n",
        "\n",
        "  plt.plot(WeightOut,'.')\n",
        "  #ValSumOut"
      ],
      "execution_count": null,
      "outputs": []
    },
    {
      "cell_type": "code",
      "metadata": {
        "id": "xXXE_mESrJG4",
        "cellView": "form"
      },
      "source": [
        "#@title look at stats of 32,498 points at FR=50 <br> btw $4/3 \\, \\pi r^3$ is 31, 415 which is close <br> (skip)\n",
        "# Combine nVec7 which was discrete info gathered at the FR=7\n",
        "# and put the data to the smaller grid given by nVec \n",
        "\n",
        "#ValsAveraged,Weights =  CoarseGrainDataOnSphere(nVec7,ValVec,nVecT)\n",
        "if 0:\n",
        "  nVec7 = np.vstack([nVec7X,nVec7Y,nVec7Z]).T\n",
        "  print(np.shape(nVec7X),np.shape(nVec7),nVec7X[1],nVec7[1,0])\n",
        "\n",
        "  plt.title('check distribution')\n",
        "  plt.hist(nVec7[:,2])\n",
        "\n",
        "  plt.subplot(1,2,1)\n",
        "  plt.scatter(ThetaVec,PhiVec)\n",
        "  plt.title('Scatter Plot Phi vs Theta')\n",
        "  plt.subplot(1,2,2)\n",
        "  plt.hist(ThetaVec)\n",
        "  plt.title('Hist Theta: FR = 50')"
      ],
      "execution_count": null,
      "outputs": []
    },
    {
      "cell_type": "code",
      "metadata": {
        "id": "hpt3EppEdRzX",
        "cellView": "form"
      },
      "source": [
        "#@title  (not necessary)\n",
        "#To check anisotropy we want to grid large number of values at a given Fourier Radius to a grid of 33 sampling values representing 20 degree cone"
      ],
      "execution_count": null,
      "outputs": []
    },
    {
      "cell_type": "code",
      "metadata": {
        "id": "SSW7jIaEzxy1",
        "cellView": "form"
      },
      "source": [
        "#@title (not necessary)\n",
        "#This is code for doing the rotational average of point atoms as function of FR\n",
        "\n",
        "if 0:\n",
        "  FourierRadius =50\n",
        "  RotAveragedPowerSpectrum = np.zeros(40)\n",
        "\n",
        "  for FourierRadiusNow in range(1,20):\n",
        "    ThetaVec, PhiVec, ValVec= GetValuesAtRad3D(F,FourierRadiusNow)\n",
        "    F2Now = np.abs(ValVec)* np.abs(ValVec)\n",
        "    RotAveragedPowerSpectrum[FourierRadiusNow] = np.mean(F2Now)\n",
        "\n",
        "  plt.plot(RotAveragedPowerSpectrum,'.')\n"
      ],
      "execution_count": null,
      "outputs": []
    },
    {
      "cell_type": "code",
      "metadata": {
        "id": "XEwPWBBUOSl-",
        "cellView": "form"
      },
      "source": [
        "#@title All Routines have been tested, start creating actual signal.\n"
      ],
      "execution_count": null,
      "outputs": []
    },
    {
      "cell_type": "code",
      "metadata": {
        "id": "_FC3z_nEOTkB",
        "colab": {
          "base_uri": "https://localhost:8080/"
        },
        "cellView": "form",
        "outputId": "0743245b-30f0-4ee4-b074-ffcd7481c7f7"
      },
      "source": [
        "#@title Create Signal With 12001 peaks width 1 on [-50,50] with <br>   total interval  [-200,200] with 1001 points. <br> XMax, X, Y, Z, NumPoints, NBar, NumPeaks (12001) created\n",
        "\n",
        "RandSeedNum=0\n",
        "np.random.seed(RandSeedNum)\n",
        "XMax=200; #First was 400, which worked great July 4th 2021\n",
        "NumPoints=2*(XMax)+1\n",
        "NumPeaks =12001\n",
        "IntervalOfPeaksMax= 50\n",
        "\n",
        "\n",
        "\n",
        "#N=10*(2*L) +1\n",
        "NBar =(NumPoints-1)//2\n",
        "\n",
        "X = np.linspace(-XMax,XMax,NumPoints)\n",
        "Y = np.linspace(-XMax,XMax,NumPoints)\n",
        "Z = np.linspace(-XMax,XMax,NumPoints)\n",
        "\n",
        "print('XMax,NumPoints,NumPeaks,IntervalOfPeaksMax=R')\n",
        "print(XMax,NumPoints,NumPeaks,IntervalOfPeaksMax)\n",
        "\n",
        "\n",
        "\n",
        "\n"
      ],
      "execution_count": null,
      "outputs": [
        {
          "output_type": "stream",
          "name": "stdout",
          "text": [
            "XMax,NumPoints,NumPeaks,IntervalOfPeaksMax=R\n",
            "200 401 12001 50\n"
          ]
        }
      ]
    },
    {
      "cell_type": "code",
      "metadata": {
        "id": "CeRCzn-WO2xz",
        "cellView": "form"
      },
      "source": [
        "#@title Mesh the values to Xv, Yv, Zv\n",
        "\n",
        "#Xv, Yv = np.meshgrid(X, Y, sparse=False) \n",
        "\n",
        "Xv, Yv, Zv = np.meshgrid(X,Y,Z) \n",
        "\n",
        "#Z = np.linspace(-XMax,XMax,NumPoints)\n",
        "XInt = np.arange(-NBar,NBar+1); # for Use in plotting FT\n",
        "YInt = np.arange(-NBar,NBar+1); # for Use in plotting FT\n",
        "\n",
        "OnesX = np.ones_like(X);\n",
        "OnesY = np.ones_like(X);\n"
      ],
      "execution_count": null,
      "outputs": []
    },
    {
      "cell_type": "code",
      "metadata": {
        "id": "lQZLk6cZPPK8",
        "colab": {
          "base_uri": "https://localhost:8080/"
        },
        "cellView": "form",
        "outputId": "db697d8e-760b-489c-f39e-2bb0471a84f5"
      },
      "source": [
        "#@title  Create the 12001 PosPeaks, make sure they are within sphere. This yields 6304 \"atoms\".\n",
        "np.random.seed(0)\n",
        "\n",
        "\n",
        "PosPeaksX = (2*IntervalOfPeaksMax*(np.random.rand(NumPeaks)-.5))\n",
        "PosPeaksY = (2*IntervalOfPeaksMax*(np.random.rand(NumPeaks)-.5))\n",
        "PosPeaksZ = (2*IntervalOfPeaksMax*(np.random.rand(NumPeaks)-.5))\n",
        "\n",
        "\n",
        "PosPeaksR = np.sqrt(PosPeaksX*PosPeaksX+ PosPeaksY*PosPeaksY + PosPeaksZ*PosPeaksZ )\n",
        "GoodInds = np.where(PosPeaksR < IntervalOfPeaksMax)[0]\n",
        "#PosPeaksTheta = np.arctan2(PosPeaksY,PosPeaksX)\n",
        "\n",
        "\n",
        "PosPeaks = np.vstack((PosPeaksX[GoodInds], PosPeaksY[GoodInds], PosPeaksZ[GoodInds])).T\n",
        "\n",
        "\n",
        "\n",
        "NumFinalPeaks= np.shape(PosPeaks)[0]\n",
        "\n",
        "print('The Final Number of peaks is NumFinalPeaks='+str(NumFinalPeaks))"
      ],
      "execution_count": null,
      "outputs": [
        {
          "output_type": "stream",
          "name": "stdout",
          "text": [
            "The Final Number of peaks is NumFinalPeaks=6304\n"
          ]
        }
      ]
    },
    {
      "cell_type": "code",
      "metadata": {
        "id": "iAKQAJBFAnEb",
        "cellView": "form"
      },
      "source": [
        "#@title Put PosPeaks to the lattice sites into f, so that there is no interpolation\n",
        " # Don't do it the original way. Define lattice sites \n",
        "f=np.zeros_like(Xv)\n",
        "\n",
        "if 0:\n",
        "  for CountPeak, jPeakv in enumerate(PosPeaks[:20,:]):\n",
        "    temp =  np.power(Xv-jPeakv[0],2) +np.power(Yv-jPeakv[1],2) +np.power(Zv-jPeakv[1],2) \n",
        "    envelopeNow = np.exp(-temp/2/sigma2)\n",
        "    f +=envelopeNow\n",
        "    \n",
        "for CountPeak, jPeakv in enumerate(PosPeaks):\n",
        "  XNow = jPeakv[0]; YNow = jPeakv[1]; ZNow = jPeakv[2];\n",
        "  XInt = int(round(XNow))+XMax;   YInt = int(round(YNow))+XMax;   ZInt = int(round(ZNow))+XMax;\n",
        "  f[XInt,YInt,ZInt] +=1\n",
        "\n",
        "\n",
        "\n"
      ],
      "execution_count": null,
      "outputs": []
    },
    {
      "cell_type": "code",
      "metadata": {
        "id": "gR4X7T5COkGj",
        "colab": {
          "base_uri": "https://localhost:8080/",
          "height": 298
        },
        "cellView": "form",
        "outputId": "a38c4e28-afbe-4c4e-8e14-147f1e22c43e"
      },
      "source": [
        "#@title plt.imshow(np.sum(f,axis=0),cmap='gray')\n",
        "\n",
        "plt.imshow(np.sum(f,axis=0),cmap='gray')\n",
        "plt.title('This is projection of unsmoothed data')\n",
        "print(XInt,YInt,ZInt,IntervalOfPeaksMax,np.max(f))"
      ],
      "execution_count": null,
      "outputs": [
        {
          "output_type": "stream",
          "name": "stdout",
          "text": [
            "206 153 199 50 2.0\n"
          ]
        },
        {
          "output_type": "display_data",
          "data": {
            "image/png": "[encoded data removed]",
            "text/plain": [
              "<Figure size 432x288 with 1 Axes>"
            ]
          },
          "metadata": {
            "needs_background": "light"
          }
        }
      ]
    },
    {
      "cell_type": "code",
      "metadata": {
        "id": "hPo_55SjzyPD",
        "colab": {
          "base_uri": "https://localhost:8080/",
          "height": 216
        },
        "cellView": "form",
        "outputId": "05ff027b-3ec0-41c7-9c57-335cae0648d7"
      },
      "source": [
        "#@title Set up filter (FFTenvelope0) to multiply by FFT(f). This is equivalent to giving the atoms an atomic form factor.\n",
        "\n",
        "sigma = 1.1;\n",
        "sigma2 = sigma*sigma;\n",
        "\n",
        "Arg0= Xv*Xv+Yv*Yv+Zv*Zv\n",
        "envelope0 =  np.exp(-Arg0/2/sigma2)\n",
        "FFTenvelope0 = np.real(Take3DFFT0(envelope0))\n",
        "\n",
        "plt.subplot(1,2,1)\n",
        "plt.title('This is cross section of the envelope')\n",
        "plt.imshow(FFTenvelope0[200,:,:],cmap=plt.cm.gray)\n",
        "\n",
        "Factor0 = np.max(FFTenvelope0)\n",
        "FFTenvelope0= FFTenvelope0/Factor0\n",
        "FFTenvelopeAbs = np.abs(FFTenvelope0)\n",
        "FFTenvelope2 = FFTenvelopeAbs*FFTenvelopeAbs\n",
        "if 0:\n",
        "  plt.subplot(1,2,2)\n",
        "  plt.semilogy(X,FFTenvelope0[501,:])\n",
        "\n",
        "  plt.plot(FFTenvelope0)\n",
        "\n"
      ],
      "execution_count": null,
      "outputs": [
        {
          "output_type": "display_data",
          "data": {
            "image/png": "[encoded data removed]",
            "text/plain": [
              "<Figure size 432x288 with 1 Axes>"
            ]
          },
          "metadata": {
            "needs_background": "light"
          }
        }
      ]
    },
    {
      "cell_type": "code",
      "metadata": {
        "id": "ZY7HWlybIzXO",
        "cellView": "form"
      },
      "source": [
        "#@title  Apply FFTenvelope 0 to FWithout to get FFull, fFull\n",
        "\n",
        "FWithout = Take3DFFT0(f);\n",
        "FFull = FFTenvelope0*FWithout\n",
        "fFull = Take3DIFFT0(FFull)"
      ],
      "execution_count": null,
      "outputs": []
    },
    {
      "cell_type": "code",
      "metadata": {
        "id": "0-PMj7OqK49L",
        "colab": {
          "base_uri": "https://localhost:8080/",
          "height": 371
        },
        "cellView": "form",
        "outputId": "e6e53fc3-5b39-4e9a-b5d3-53926cf55e46"
      },
      "source": [
        "#@title  Cross section, ray of the smoothed point atoms\n",
        "\n",
        "print(np.shape(FFull))\n",
        "plt.figure(figsize=(12,5))\n",
        "plt.subplot(1,2,1)\n",
        "plt.title('Cross section of the smoothed point atoms',fontsize=14,fontweight='bold')\n",
        "plt.imshow(np.abs(fFull[201,:,:]),cmap='gray')\n",
        "plt.subplot(1,2,2)\n",
        "plt.title('Ray across the smoothed point atoms',fontsize=14,fontweight='bold')\n",
        "plt.plot(fFull[201,201,:])\n"
      ],
      "execution_count": null,
      "outputs": [
        {
          "output_type": "stream",
          "name": "stdout",
          "text": [
            "(401, 401, 401)\n"
          ]
        },
        {
          "output_type": "execute_result",
          "data": {
            "text/plain": [
              "[<matplotlib.lines.Line2D at 0x7f4d2c5e8790>]"
            ]
          },
          "metadata": {},
          "execution_count": 21
        },
        {
          "output_type": "display_data",
          "data": {
            "image/png": "[encoded data removed]",
            "text/plain": [
              "<Figure size 864x360 with 2 Axes>"
            ]
          },
          "metadata": {
            "needs_background": "light"
          }
        }
      ]
    },
    {
      "cell_type": "code",
      "metadata": {
        "id": "e4M2d3xlVNFd",
        "colab": {
          "base_uri": "https://localhost:8080/"
        },
        "outputId": "f764867a-3736-4771-c47f-fb5c2006ded1"
      },
      "source": [
        "print(np.shape(PosPeaks),np.shape(Xv),np.shape(Yv),np.shape(Zv))"
      ],
      "execution_count": null,
      "outputs": [
        {
          "output_type": "stream",
          "name": "stdout",
          "text": [
            "(6304, 3) (401, 401, 401) (401, 401, 401) (401, 401, 401)\n"
          ]
        }
      ]
    },
    {
      "cell_type": "code",
      "metadata": {
        "id": "rLT5VVyyzyX8",
        "colab": {
          "base_uri": "https://localhost:8080/",
          "height": 299
        },
        "cellView": "form",
        "outputId": "fda9fe77-3aac-49e2-f422-b1b791dad888"
      },
      "source": [
        "#@title  Projection of the smoothed point atoms, histogram of z values\n",
        "\n",
        "fProjected = np.sum(fFull,axis=2)\n",
        "\n",
        "plt.figure(figsize=[10,4])\n",
        "plt.subplot(1,2,1)\n",
        "plt.imshow(fProjected,cmap=plt.cm.gray)\n",
        "plt.title('Projection of  6304 smoothed data ',fontsize=14,fontweight='bold')\n",
        "\n",
        "plt.subplot(1,2,2)\n",
        "plt.hist(PosPeaks[:,2],20)\n",
        "plt.title('Hist of z comp of peaks ',fontsize=14,fontweight='bold')"
      ],
      "execution_count": null,
      "outputs": [
        {
          "output_type": "execute_result",
          "data": {
            "text/plain": [
              "Text(0.5, 1.0, 'Hist of z comp of peaks ')"
            ]
          },
          "metadata": {},
          "execution_count": 23
        },
        {
          "output_type": "display_data",
          "data": {
            "image/png": "[encoded data removed]",
            "text/plain": [
              "<Figure size 720x288 with 2 Axes>"
            ]
          },
          "metadata": {
            "needs_background": "light"
          }
        }
      ]
    },
    {
      "cell_type": "code",
      "metadata": {
        "id": "5i1s-9UzXMWe",
        "colab": {
          "base_uri": "https://localhost:8080/"
        },
        "cellView": "form",
        "outputId": "f005c4a1-175d-4605-fc13-e4475c8b4556"
      },
      "source": [
        "#@title Get values of FFull at FR=50 <br> Create nVecFRFinebynVecCoarse which we will use to do interpolation; it is how close the actually measured data is to the grid of 33 points, which represents the sample points of the 20 degree conically averaged points\n",
        "#fGuessed = Take3DIFFT0(F)\n",
        "#print(fGuessed) \n",
        "FourierRadius =50\n",
        "\n",
        "ThetaVec, PhiVec, ValVec= GetValuesAtRad3D(FFull,FourierRadius)\n",
        "\n",
        "nVec7X = np.sin(ThetaVec*np.pi/180.0)*np.cos(PhiVec*np.pi/180.0)\n",
        "nVec7Y = np.sin(ThetaVec*np.pi/180.0)*np.sin(PhiVec*np.pi/180.0)\n",
        "nVec7Z = np.cos(ThetaVec*np.pi/180.0)\n",
        "nVec7 = np.vstack([nVec7X,nVec7Y,nVec7Z]).T\n",
        "#nVecZ = np.cos(ThetaVec)\n",
        "At1 = ValVec\n",
        "print(len(At1))\n",
        "#print(At1)\n",
        "#print(Fabs)\n",
        "\n",
        "# nVecFR7,ValVec,nVecT\n",
        "\n",
        "nVecFRFinebynVecCoarse = np.dot(nVec7,nVecT.T)\n",
        "#plt.figure(figsize=(5,40))\n",
        "#plt.imshow(nVecFRFinebynVecCoarse,cmap='gray')\n",
        "print(np.shape(nVecFRFinebynVecCoarse)); # 602 by 33\n",
        "\n"
      ],
      "execution_count": null,
      "outputs": [
        {
          "output_type": "stream",
          "name": "stdout",
          "text": [
            "32498\n",
            "(32498, 33)\n"
          ]
        }
      ]
    },
    {
      "cell_type": "code",
      "metadata": {
        "id": "Kp4TaY9zXNvi",
        "cellView": "form"
      },
      "source": [
        "#@title (skip) \n",
        "#Find Conical Average for FR=50\n",
        "# For each row, find\n",
        "if 0:\n",
        "  IndsMax = np.argmax(nVecFRFinebynVecCoarse, axis=1)\n",
        "  NumIn  = np.shape(nVecFRFinebynVecCoarse)[0]\n",
        "  NumOut = np.shape(nVecFRFinebynVecCoarse)[1]\n",
        "  ValSumOut = np.zeros(NumOut,dtype=complex);\n",
        "  Val2SumOut = np.zeros(NumOut);\n",
        "  WeightOut = np.zeros(NumOut);\n",
        "  # = len(np.where(IndsMax==jNow)[0])\n",
        "  for jNow in range(NumIn):\n",
        "    IndNow = IndsMax[jNow]\n",
        "    ValNow = ValVec[jNow]\n",
        "    Val2Now = np.abs(ValNow)*np.abs(ValNow)\n",
        "    WeightOut[IndNow] +=1\n",
        "    ValSumOut[IndNow] += ValNow\n",
        "    Val2SumOut[IndNow] += (Val2Now)\n",
        "\n",
        "  if 0: plt.plot(WeightOut,'.')\n",
        "\n",
        "  ValsConicallyAveraged =   ValSumOut/WeightOut\n",
        "  Vals2ConicallyAveraged =   Val2SumOut/WeightOut\n",
        "\n",
        "  plt.figure(figsize=(10,4))\n",
        "  plt.subplot(1,2,1)\n",
        "  plt.hist(Vals2ConicallyAveraged/1000)\n",
        "  plt.xlim(0,5)\n",
        "  plt.title('Conically Ave  Power; FR=50',fontsize=14,fontweight='bold')\n",
        "  plt.subplot(1,2,2)\n",
        "  plt.hist(WeightOut)\n",
        "  plt.title('Weights for 33 points; dTheta=20',fontsize=14,fontweight='bold')\n",
        "  plt.xlim(0,1200)\n",
        "  #ValS"
      ],
      "execution_count": null,
      "outputs": []
    },
    {
      "cell_type": "code",
      "metadata": {
        "cellView": "form",
        "id": "lxlSXoVAgWCY"
      },
      "source": [
        "#@title skip\n",
        "#print(jNow,IndNow,nVecFRFinebynVecCoarse[jNow,IndNow])"
      ],
      "execution_count": null,
      "outputs": []
    },
    {
      "cell_type": "code",
      "metadata": {
        "cellView": "form",
        "id": "D98OTM70emig"
      },
      "source": [
        "#@title skip\n",
        "if 0:\n",
        "  plt.figure(figsize=[20,6])\n",
        "  #plt.imshow(nVecFRFinebynVecCoarse[-400:,:])\n",
        "  plt.plot(nVecFRFinebynVecCoarse[:2000,25],'.')"
      ],
      "execution_count": null,
      "outputs": []
    },
    {
      "cell_type": "code",
      "metadata": {
        "cellView": "form",
        "id": "nHgpo1P0c9dp"
      },
      "source": [
        "#@title skip\n",
        "if 0:\n",
        "  plt.hist(np.abs(ValVec))\n",
        "  print('NumIn at FR =50, NumOut which is 33')\n",
        "  print(NumIn,NumOut,ValNow)"
      ],
      "execution_count": null,
      "outputs": []
    },
    {
      "cell_type": "code",
      "metadata": {
        "id": "ALJrN5hqXPHa",
        "colab": {
          "base_uri": "https://localhost:8080/"
        },
        "cellView": "form",
        "outputId": "d674d114-58c1-4d9d-f126-5e668e8deb01"
      },
      "source": [
        "#@title Calculate RotAveragedPowerSpectrum as function of Fourier Radius\n",
        "FourierRadiusMax =50\n",
        "RotAveragedPowerSpectrum = np.zeros(FourierRadiusMax)\n",
        "\n",
        "RotAveragedPowerSpectrum[0]= np.max(FFull)*np.max(FFull)\n",
        "\n",
        "for FourierRadiusNow in range(1,FourierRadiusMax):\n",
        "  #print(FourierRadiusNow)\n",
        "  ThetaVec, PhiVec, ValVec= GetValuesAtRad3D(FFull,FourierRadiusNow)\n",
        "  F2Now = np.abs(ValVec)* np.abs(ValVec)\n",
        "  RotAveragedPowerSpectrum[FourierRadiusNow] = np.mean(F2Now)\n"
      ],
      "execution_count": null,
      "outputs": [
        {
          "output_type": "stream",
          "name": "stderr",
          "text": [
            "/usr/local/lib/python3.7/dist-packages/ipykernel_launcher.py:5: ComplexWarning: Casting complex values to real discards the imaginary part\n",
            "  \"\"\"\n"
          ]
        }
      ]
    },
    {
      "cell_type": "code",
      "metadata": {
        "colab": {
          "base_uri": "https://localhost:8080/",
          "height": 354
        },
        "id": "nKFQbSgsjhKa",
        "outputId": "5118bfb2-e41b-45d0-c852-6d49c32f778a"
      },
      "source": [
        "#@title Plot the Rotationally Averaged Power Spectrum\n",
        "plt.figure(figsize=[10,5])\n",
        "plt.semilogy(RotAveragedPowerSpectrum,'.-')\n",
        "plt.title('Rotationally Averaged Power Spectrum atoms in Sphere',fontsize=14,fontweight='bold')\n"
      ],
      "execution_count": null,
      "outputs": [
        {
          "output_type": "execute_result",
          "data": {
            "text/plain": [
              "Text(0.5, 1.0, 'Rotationally Averaged Power Spectrum atoms in Sphere')"
            ]
          },
          "metadata": {},
          "execution_count": 30
        },
        {
          "output_type": "display_data",
          "data": {
            "image/png": "[encoded data removed]",
            "text/plain": [
              "<Figure size 720x360 with 1 Axes>"
            ]
          },
          "metadata": {
            "needs_background": "light"
          }
        }
      ]
    },
    {
      "cell_type": "code",
      "metadata": {
        "id": "1_JDNmUhXQdc",
        "colab": {
          "base_uri": "https://localhost:8080/",
          "height": 371
        },
        "outputId": "0a99694b-e31e-4d6c-d00d-f7beefb0c6fa"
      },
      "source": [
        "#@title Plot the Rotationally Averaged Power Spectrum divided by Form Factor^2\n",
        "\n",
        "FFTenvelope0Sq=  FFTenvelope0*FFTenvelope0\n",
        "print(np.shape(RotAveragedPowerSpectrum), np.shape(FFTenvelope0Sq[200,200,200:250]))\n",
        "vv= RotAveragedPowerSpectrum/FFTenvelope0Sq[200,200,200:250]\n",
        "plt.figure(figsize=[10,5])\n",
        "plt.semilogy(vv,'.-')\n",
        "plt.title('Rotationally Averaged Power Spectrum/Form Factor^2',fontsize=14,fontweight='bold')\n"
      ],
      "execution_count": null,
      "outputs": [
        {
          "output_type": "stream",
          "name": "stdout",
          "text": [
            "(50,) (50,)\n"
          ]
        },
        {
          "output_type": "execute_result",
          "data": {
            "text/plain": [
              "Text(0.5, 1.0, 'Rotationally Averaged Power Spectrum/Form Factor^2')"
            ]
          },
          "metadata": {},
          "execution_count": 31
        },
        {
          "output_type": "display_data",
          "data": {
            "image/png": "[encoded data removed]",
            "text/plain": [
              "<Figure size 720x360 with 1 Axes>"
            ]
          },
          "metadata": {
            "needs_background": "light"
          }
        }
      ]
    },
    {
      "cell_type": "code",
      "metadata": {
        "colab": {
          "base_uri": "https://localhost:8080/"
        },
        "cellView": "form",
        "id": "dOOpm_WFua1U",
        "outputId": "cc52162b-7a13-4135-8b01-b649a1f938a4"
      },
      "source": [
        "#@title Create Factor\n",
        "if 1:\n",
        "  print(IntervalOfPeaksMax,XMax)\n",
        "  FudgeFactor = 2*np.pi*50/401\n",
        "  print('FudgeFactor, 1/FudgeFactor')\n",
        "  print(FudgeFactor, 1/FudgeFactor)"
      ],
      "execution_count": null,
      "outputs": [
        {
          "output_type": "stream",
          "name": "stdout",
          "text": [
            "50 200\n",
            "FudgeFactor, 1/FudgeFactor\n",
            "0.7834395644862328 1.2764226435970005\n"
          ]
        }
      ]
    },
    {
      "cell_type": "code",
      "metadata": {
        "colab": {
          "base_uri": "https://localhost:8080/",
          "height": 334
        },
        "cellView": "form",
        "id": "1rGHC-4bem-a",
        "outputId": "71c381d5-75f9-4103-97e4-07a67e4c0fd5"
      },
      "source": [
        "#@title Create the fit function for power spectrum (Wilson)\n",
        "\n",
        "# Create a fit function according to Wilson idea\n",
        "\n",
        "kVec = np.arange(50)\n",
        "\n",
        "# FofkNormalized is normalized to 1 as k -> 0\n",
        "kR = XInt*IntervalOfPeaksMax/XMax\n",
        "kR = kVec*FudgeFactor\n",
        "FofkNormalized =3* (np.sin(kR)-kR * np.cos(kR))/(kR*kR*kR)\n",
        "\n",
        "Fit = NumFinalPeaks + NumFinalPeaks*(NumFinalPeaks-1)*FofkNormalized*FofkNormalized;\n",
        "\n",
        "plt.figure(figsize=(12,4))\n",
        "plt.semilogy(Fit,'.-')\n",
        "plt.title('fit for Power Spectrum is n + n(n-1)*|FContainer|^2', fontweight='bold', fontsize=16)\n"
      ],
      "execution_count": null,
      "outputs": [
        {
          "output_type": "stream",
          "name": "stderr",
          "text": [
            "/usr/local/lib/python3.7/dist-packages/ipykernel_launcher.py:10: RuntimeWarning: invalid value encountered in true_divide\n",
            "  # Remove the CWD from sys.path while we load stuff.\n"
          ]
        },
        {
          "output_type": "execute_result",
          "data": {
            "text/plain": [
              "Text(0.5, 1.0, 'fit for Power Spectrum is n + n(n-1)*|FContainer|^2')"
            ]
          },
          "metadata": {},
          "execution_count": 33
        },
        {
          "output_type": "display_data",
          "data": {
            "image/png": "[encoded data removed]",
            "text/plain": [
              "<Figure size 864x288 with 1 Axes>"
            ]
          },
          "metadata": {
            "needs_background": "light"
          }
        }
      ]
    },
    {
      "cell_type": "code",
      "metadata": {
        "colab": {
          "base_uri": "https://localhost:8080/",
          "height": 300
        },
        "id": "uf-VwTgg_Cv5",
        "cellView": "form",
        "outputId": "6f075d29-af3d-4910-f8df-e25d7cc5c4f3"
      },
      "source": [
        "#@title Plot Normalized Power Spectrum  and Wilson Idea Fit\n",
        "\n",
        "plt.figure(figsize=(12,4))\n",
        "plt.semilogy(vv,'.-')\n",
        "plt.semilogy(Fit,'.-')\n",
        "\n",
        "plt.title('Rot Averaged Power Spectrum (divided by atomic Form Factor) and Wilson Idea Fit: n=6304', fontweight='bold', fontsize=16)\n",
        "plt.legend(['Power Spectrum/Form Factor^2','Wilson Fit'],fontsize=14)"
      ],
      "execution_count": null,
      "outputs": [
        {
          "output_type": "execute_result",
          "data": {
            "text/plain": [
              "<matplotlib.legend.Legend at 0x7f4d2285c850>"
            ]
          },
          "metadata": {},
          "execution_count": 34
        },
        {
          "output_type": "display_data",
          "data": {
            "image/png": "[encoded data removed]",
            "text/plain": [
              "<Figure size 864x288 with 1 Axes>"
            ]
          },
          "metadata": {
            "needs_background": "light"
          }
        }
      ]
    },
    {
      "cell_type": "markdown",
      "metadata": {
        "id": "zhan0oh_V1Ro"
      },
      "source": [
        "## The Theoretical Fit for the normalized power spectrum works extremely well. <br> It  interpolates from low freq behavior (number of atoms^2) to high frequency behavior, <br> which is a constant proportional to the number of atoms. <br> There is a \"ringing\" due to the hard edge of the container (which is a sphere)."
      ]
    },
    {
      "cell_type": "code",
      "metadata": {
        "id": "AS8tQzAv_fbK"
      },
      "source": [
        ""
      ],
      "execution_count": null,
      "outputs": []
    },
    {
      "cell_type": "code",
      "metadata": {
        "id": "UuZiwihbQEBV"
      },
      "source": [
        ""
      ],
      "execution_count": null,
      "outputs": []
    }
  ]
}